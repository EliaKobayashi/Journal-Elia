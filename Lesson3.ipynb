{
  "nbformat": 4,
  "nbformat_minor": 0,
  "metadata": {
    "colab": {
      "name": "Lesson3.ipynb",
      "provenance": [],
      "authorship_tag": "ABX9TyNQwaq5oaJv3MoE8OSPaQjM",
      "include_colab_link": true
    },
    "kernelspec": {
      "name": "python3",
      "display_name": "Python 3"
    },
    "language_info": {
      "name": "python"
    }
  },
  "cells": [
    {
      "cell_type": "markdown",
      "metadata": {
        "id": "view-in-github",
        "colab_type": "text"
      },
      "source": [
        "<a href=\"https://colab.research.google.com/github/EliaKobayashi/Journal-Elia/blob/main/Lesson3.ipynb\" target=\"_parent\"><img src=\"https://colab.research.google.com/assets/colab-badge.svg\" alt=\"Open In Colab\"/></a>"
      ]
    },
    {
      "cell_type": "code",
      "metadata": {
        "id": "MgeH-FwU-hFs"
      },
      "source": [
        ""
      ],
      "execution_count": null,
      "outputs": []
    },
    {
      "cell_type": "code",
      "metadata": {
        "colab": {
          "base_uri": "https://localhost:8080/"
        },
        "id": "5SZo-pUW-8L2",
        "outputId": "b8c88a25-ca27-4c22-a865-58e70acc4008"
      },
      "source": [
        "a = int(input(\"please input the first value.\"))\n",
        "y = 1\n",
        "for x in range ((a+1)//2):\n",
        "  print(y)\n",
        "  y = y + 2\n"
      ],
      "execution_count": 1,
      "outputs": [
        {
          "output_type": "stream",
          "name": "stdout",
          "text": [
            "please input the first value.10\n",
            "1\n",
            "3\n",
            "5\n",
            "7\n",
            "9\n"
          ]
        }
      ]
    },
    {
      "cell_type": "code",
      "metadata": {
        "colab": {
          "base_uri": "https://localhost:8080/"
        },
        "id": "dw03OQnjCnDs",
        "outputId": "35629625-16e2-4ecd-b84a-3bb34cc94014"
      },
      "source": [
        "sum = 0\n",
        "scores = [2, 3, 1, 0, 5, 3, 4, 2]\n",
        "num_scores = len(scores)\n",
        "sum = 0\n",
        "count_pass = 0\n",
        "for index in range(num_scores):\n",
        "  print(f\"index is {index}, score {scores[index]}, partial sum {sum}\")\n",
        "  sum += scores[index]\n",
        "  if scores[index] > 3:\n",
        "    count_pass += 1\n",
        "\n",
        "print(f\"The number of passing grades is {count_pass}\")\n",
        "print(f\"The average score was {sum/num_scores}\")"
      ],
      "execution_count": 1,
      "outputs": [
        {
          "output_type": "stream",
          "name": "stdout",
          "text": [
            "index is 0, score 2, partial sum 0\n",
            "index is 1, score 3, partial sum 2\n",
            "index is 2, score 1, partial sum 5\n",
            "index is 3, score 0, partial sum 6\n",
            "index is 4, score 5, partial sum 6\n",
            "index is 5, score 3, partial sum 11\n",
            "index is 6, score 4, partial sum 14\n",
            "index is 7, score 2, partial sum 18\n",
            "The number of passing grades is 2\n",
            "The average score was 2.5\n"
          ]
        }
      ]
    },
    {
      "cell_type": "code",
      "metadata": {
        "colab": {
          "base_uri": "https://localhost:8080/"
        },
        "id": "YauVuUhd_ef5",
        "outputId": "f2bbca20-6b3f-4557-e8de-bf68ab6931b6"
      },
      "source": [
        "a = int(input(\"please input the first value.\"))\n",
        "for x in range (a+1):\n",
        "  if x%2!= 0:\n",
        "    print(x)\n",
        "    \n",
        "      "
      ],
      "execution_count": 3,
      "outputs": [
        {
          "output_type": "stream",
          "name": "stdout",
          "text": [
            "please input the first value.10\n",
            "1\n",
            "3\n",
            "5\n",
            "7\n",
            "9\n"
          ]
        }
      ]
    },
    {
      "cell_type": "code",
      "metadata": {
        "colab": {
          "base_uri": "https://localhost:8080/"
        },
        "id": "jr0WwZoB-jtJ",
        "outputId": "34456a05-63b8-465a-f0de-a07240e72185"
      },
      "source": [
        "a = int(input(\"please input the first value.\"))\n",
        "for x in range (1, a + 1, 2):\n",
        "  print(x)"
      ],
      "execution_count": 2,
      "outputs": [
        {
          "output_type": "stream",
          "name": "stdout",
          "text": [
            "please input the first value.10\n",
            "1\n",
            "3\n",
            "5\n",
            "7\n",
            "9\n"
          ]
        }
      ]
    }
  ]
}