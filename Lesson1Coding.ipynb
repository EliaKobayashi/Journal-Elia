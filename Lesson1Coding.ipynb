{
  "nbformat": 4,
  "nbformat_minor": 0,
  "metadata": {
    "colab": {
      "name": "Untitled0.ipynb",
      "provenance": [],
      "authorship_tag": "ABX9TyMbRPv35xfvJP+C2TqDUfW8",
      "include_colab_link": true
    },
    "kernelspec": {
      "name": "python3",
      "display_name": "Python 3"
    },
    "language_info": {
      "name": "python"
    }
  },
  "cells": [
    {
      "cell_type": "markdown",
      "metadata": {
        "id": "view-in-github",
        "colab_type": "text"
      },
      "source": [
        "<a href=\"https://colab.research.google.com/github/EliaKobayashi/Journal-Elia/blob/main/Lesson1Coding.ipynb\" target=\"_parent\"><img src=\"https://colab.research.google.com/assets/colab-badge.svg\" alt=\"Open In Colab\"/></a>"
      ]
    },
    {
      "cell_type": "markdown",
      "metadata": {
        "id": "jQHIOemFJONm"
      },
      "source": [
        "$$y = 2 * (x+3) - 3$$"
      ]
    },
    {
      "cell_type": "code",
      "metadata": {
        "colab": {
          "base_uri": "https://localhost:8080/"
        },
        "id": "5JG-QPv0KqvB",
        "outputId": "39c17dea-e69d-44f7-e077-d5d249704ac2"
      },
      "source": [
        "# Step 1: Get the input from the user\n",
        "# Step 2: convert the input which is string to number\n",
        "# Step 3: Define the value of x\n",
        "x =  int ( input(\"please enter the value of x\"))\n",
        "\n",
        "\n",
        "# Step 4: Define the value of y\n",
        "y = 2 * (x+3) -3\n",
        "# Step 5: Show the result\n",
        "print(\"The result is\", y)\n"
      ],
      "execution_count": 1,
      "outputs": [
        {
          "output_type": "stream",
          "text": [
            "please enter the value of x5\n",
            "The result is 13\n"
          ],
          "name": "stdout"
        }
      ]
    },
    {
      "cell_type": "code",
      "metadata": {
        "colab": {
          "base_uri": "https://localhost:8080/"
        },
        "id": "KgaKn6PNLmO7",
        "outputId": "7f952ab2-818c-4f0b-d667-5060804de4ed"
      },
      "source": [
        "first = input(\"Please enter your first name\")\n",
        "second = input(\"Please enter your second name\")\n",
        "grade = int ( input(\"Please enter your grade\"))\n",
        "\n",
        "year = 2034 - grade\n",
        "\n",
        "print (f\"your uwcisak email is {year}.{first}.{second}@uwcisak.jp\")"
      ],
      "execution_count": 2,
      "outputs": [
        {
          "output_type": "stream",
          "text": [
            "Please enter your first nameelia\n",
            "Please enter your second namekobayashi\n",
            "Please enter your grade10\n",
            "your uwcisak email is 2024.elia.kobayashi@uwcisak.jp\n"
          ],
          "name": "stdout"
        }
      ]
    }
  ]
}