{
  "nbformat": 4,
  "nbformat_minor": 0,
  "metadata": {
    "colab": {
      "name": "Basic Coding Practice ipynb",
      "provenance": [],
      "collapsed_sections": [],
      "authorship_tag": "ABX9TyMNKYdy51Qvno70/OJbsDB0",
      "include_colab_link": true
    },
    "kernelspec": {
      "name": "python3",
      "display_name": "Python 3"
    },
    "language_info": {
      "name": "python"
    }
  },
  "cells": [
    {
      "cell_type": "markdown",
      "metadata": {
        "id": "view-in-github",
        "colab_type": "text"
      },
      "source": [
        "<a href=\"https://colab.research.google.com/github/EliaKobayashi/Journal-Elia/blob/main/Basic_Coding_Practice_ipynb.ipynb\" target=\"_parent\"><img src=\"https://colab.research.google.com/assets/colab-badge.svg\" alt=\"Open In Colab\"/></a>"
      ]
    },
    {
      "cell_type": "markdown",
      "metadata": {
        "id": "jQHIOemFJONm"
      },
      "source": [
        "$$y = 2 * (x+3) - 3$$"
      ]
    },
    {
      "cell_type": "code",
      "metadata": {
        "colab": {
          "base_uri": "https://localhost:8080/"
        },
        "id": "5JG-QPv0KqvB",
        "outputId": "39c17dea-e69d-44f7-e077-d5d249704ac2"
      },
      "source": [
        "# Step 1: Get the input from the user\n",
        "# Step 2: convert the input which is string to number\n",
        "# Step 3: Define the value of x\n",
        "x =  int ( input(\"please enter the value of x\"))\n",
        "\n",
        "\n",
        "# Step 4: Define the value of y\n",
        "y = 2 * (x+3) -3\n",
        "# Step 5: Show the result\n",
        "print(\"The result is\", y)\n"
      ],
      "execution_count": null,
      "outputs": [
        {
          "output_type": "stream",
          "text": [
            "please enter the value of x5\n",
            "The result is 13\n"
          ],
          "name": "stdout"
        }
      ]
    },
    {
      "cell_type": "code",
      "metadata": {
        "colab": {
          "base_uri": "https://localhost:8080/"
        },
        "id": "KgaKn6PNLmO7",
        "outputId": "7f952ab2-818c-4f0b-d667-5060804de4ed"
      },
      "source": [
        "# Generating e-mail adress\n",
        "# 1. Input first name\n",
        "# 2. Input second name\n",
        "# 3. Input grade\n",
        "first_name = input(\"Please enter your first name\")\n",
        "second_name = input(\"Please enter your second name\")\n",
        "grade = int ( input(\"Please enter your grade\"))\n",
        "# 4. calculate the year of graduation\n",
        "year = 2034 - grade\n",
        "# 5. print the uwcisak email adress\n",
        "print (f\"your uwcisak email is {year}.{first_name}.{second_name}@uwcisak.jp\")"
      ],
      "execution_count": null,
      "outputs": [
        {
          "output_type": "stream",
          "text": [
            "Please enter your first nameelia\n",
            "Please enter your second namekobayashi\n",
            "Please enter your grade10\n",
            "your uwcisak email is 2024.elia.kobayashi@uwcisak.jp\n"
          ],
          "name": "stdout"
        }
      ]
    },
    {
      "cell_type": "code",
      "metadata": {
        "colab": {
          "base_uri": "https://localhost:8080/"
        },
        "id": "qHZPZFnYREax",
        "outputId": "022d9b2e-1c4c-41fa-d527-985ce152a42c"
      },
      "source": [
        "# Converting Fahrenheit to Celsius\n",
        "# 1. Input Fahrenheit\n",
        "Fahrenheit = int (input(\"Please enter Fahrenheit degrees > \"))\n",
        "# 2. calculate and print the Celsius\n",
        "answer = ((Fahrenheit - 32) * 5 /9)\n",
        "print(f\"The answer is {answer} degrees celcius\")"
      ],
      "execution_count": 2,
      "outputs": [
        {
          "output_type": "stream",
          "name": "stdout",
          "text": [
            "Please enter Fahrenheit degrees > 15\n",
            "The answer is -9.444444444444445 degrees celcius\n"
          ]
        }
      ]
    },
    {
      "cell_type": "code",
      "metadata": {
        "colab": {
          "base_uri": "https://localhost:8080/"
        },
        "id": "XiW_IThYWdEq",
        "outputId": "744f716a-1830-4df3-880f-a186413772f5"
      },
      "source": [
        "# Converting Miles to Kilometer\n",
        "# 1. Input Miles\n",
        "Miles = int (input(\"Please enter miles > \"))\n",
        "# 2. Calculate and print Kilometer \n",
        "Kilometer = (Miles * 1.609)\n",
        "print(f\"The answer is {Kilometer}\")"
      ],
      "execution_count": 3,
      "outputs": [
        {
          "output_type": "stream",
          "name": "stdout",
          "text": [
            "Please enter miles > 1\n",
            "The answer is 1.609\n"
          ]
        }
      ]
    },
    {
      "cell_type": "code",
      "metadata": {
        "colab": {
          "base_uri": "https://localhost:8080/"
        },
        "id": "j0XIkFuzW_99",
        "outputId": "d6a4be07-88ee-4e4b-cc09-41750c44d0a7"
      },
      "source": [
        "# Quadratic Formula \n",
        "# 1. Input a, b, and c\n",
        "a = int (input(\"Please input 'a' >\"))\n",
        "b = int (input(\"Please input 'b' >\"))\n",
        "c = int (input(\"Please input 'c' >\"))\n",
        "# 2. calculate first answer\n",
        "FirstAnswer = ((-b+((b**2 - 4*a*c)**1/2))/2*a)\n",
        "# 3. calculate second answer\n",
        "SecondAnswer = ((-b-((b**2 - 4*a*c)**1/2))/2*a)\n",
        "# 4. Print answer\n",
        "print(f\"The answers are {FirstAnswer} and {SecondAnswer}\")"
      ],
      "execution_count": 7,
      "outputs": [
        {
          "output_type": "stream",
          "name": "stdout",
          "text": [
            "Please input 'a' >1\n",
            "Please input 'b' >2\n",
            "Please input 'c' >3\n",
            "The answers are -3.0 and 1.0\n"
          ]
        }
      ]
    },
    {
      "cell_type": "code",
      "metadata": {
        "colab": {
          "base_uri": "https://localhost:8080/"
        },
        "id": "wLL-JWvBbJEE",
        "outputId": "1ef0aae0-6fdd-467d-8045-743ba03b99c7"
      },
      "source": [
        "# Greeting for user\n",
        "# 1. input name, age, and nationality. \n",
        "Name = input(\"please enter your name >\")\n",
        "Age = input(\"please enter your age >\")\n",
        "Nationality = input(\"please enter your nationality >\")\n",
        "# 2. print greeting message\n",
        "print(f\"Welcome {Name} you are {Age} years old and a national of {Nationality}.\")"
      ],
      "execution_count": 8,
      "outputs": [
        {
          "output_type": "stream",
          "name": "stdout",
          "text": [
            "please enter your name >Elia Kobayashi\n",
            "please enter your age >16\n",
            "please enter your nationality >Japan\n",
            "Welcome Elia Kobayashi you are 16 years old and a national of Japan.\n"
          ]
        }
      ]
    },
    {
      "cell_type": "code",
      "metadata": {
        "colab": {
          "base_uri": "https://localhost:8080/"
        },
        "id": "7eWpFQe3cBkm",
        "outputId": "a11eee8a-fab2-4348-9c40-14f1962bceac"
      },
      "source": [
        "# Converting Kilograms to Pounds\n",
        "# 1. Input Kilograms\n",
        "Kilograms = int (input(\"Please enter Kilograms > \"))\n",
        "# 2. Calculate and print Pounds \n",
        "Pounds = (Kilograms * 2.205)\n",
        "print(f\"The answer is {Pounds}\")"
      ],
      "execution_count": 9,
      "outputs": [
        {
          "output_type": "stream",
          "name": "stdout",
          "text": [
            "Please enter Kilograms > 1\n",
            "The answer is 2.205\n"
          ]
        }
      ]
    }
  ]
}