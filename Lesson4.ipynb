{
  "nbformat": 4,
  "nbformat_minor": 0,
  "metadata": {
    "colab": {
      "name": "Lesson4.ipynb",
      "provenance": [],
      "authorship_tag": "ABX9TyNMETxGvHjTt1mq1YPgkFKT",
      "include_colab_link": true
    },
    "kernelspec": {
      "name": "python3",
      "display_name": "Python 3"
    },
    "language_info": {
      "name": "python"
    }
  },
  "cells": [
    {
      "cell_type": "markdown",
      "metadata": {
        "id": "view-in-github",
        "colab_type": "text"
      },
      "source": [
        "<a href=\"https://colab.research.google.com/github/EliaKobayashi/Journal-Elia/blob/main/Lesson4.ipynb\" target=\"_parent\"><img src=\"https://colab.research.google.com/assets/colab-badge.svg\" alt=\"Open In Colab\"/></a>"
      ]
    },
    {
      "cell_type": "code",
      "metadata": {
        "colab": {
          "base_uri": "https://localhost:8080/"
        },
        "id": "zaHfMl-X4j4_",
        "outputId": "58785f47-3054-4c33-e066-5bb058fe9bed"
      },
      "source": [
        "x = []\n",
        "for i in range (5):\n",
        "  a = input()\n",
        "  x.append(a)\n",
        "y = x[0]\n",
        "for k in range (1, 5):\n",
        "  if y > x[k]:\n",
        "    y = x[k]\n",
        "print(y)"
      ],
      "execution_count": 8,
      "outputs": [
        {
          "output_type": "stream",
          "name": "stdout",
          "text": [
            "5\n",
            "3\n",
            "7\n",
            "2\n",
            "1\n",
            "['5', '3', '7', '2', '1']\n",
            "1\n"
          ]
        }
      ]
    },
    {
      "cell_type": "code",
      "metadata": {
        "colab": {
          "base_uri": "https://localhost:8080/"
        },
        "id": "fxBhUxHo4mEP",
        "outputId": "6f2b245f-e9a1-4fbc-c6a0-59602be6975a"
      },
      "source": [
        "a = int(input(\"please input the first value\"))\n",
        "b = int(input(\"please input the second value\"))\n",
        "numbers = b - a\n",
        "if numbers >= 0:\n",
        "  for i in range (numbers + 1):\n",
        "    print(a)\n",
        "    a += 1"
      ],
      "execution_count": 2,
      "outputs": [
        {
          "output_type": "stream",
          "name": "stdout",
          "text": [
            "please input the first value1\n",
            "please input the second value10\n",
            "1\n",
            "2\n",
            "3\n",
            "4\n",
            "5\n",
            "6\n",
            "7\n",
            "8\n",
            "9\n",
            "10\n"
          ]
        }
      ]
    }
  ]
}